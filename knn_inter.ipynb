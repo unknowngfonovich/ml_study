{
 "cells": [
  {
   "cell_type": "markdown",
   "metadata": {},
   "source": [
    "Задача заключается в интерпретации нахождения k-соседей к целевому вектору. Метрика - Евклидова норма."
   ]
  },
  {
   "cell_type": "markdown",
   "metadata": {},
   "source": [
    "Для начала импортируем необходимые библиотеки pandas, numpy"
   ]
  },
  {
   "cell_type": "code",
   "execution_count": 1,
   "metadata": {},
   "outputs": [],
   "source": [
    "import pandas as pd\n",
    "import numpy as np\n",
    "import matplotlib.pyplot as plt"
   ]
  },
  {
   "cell_type": "markdown",
   "metadata": {},
   "source": [
    "Сгенерируем объекты путём записи информации в CSV-файл: каждый из них имеет 3 признака (x_0, x_1, x_2)"
   ]
  },
  {
   "cell_type": "code",
   "execution_count": 2,
   "metadata": {},
   "outputs": [],
   "source": [
    "with open('test3.csv', 'w') as f:\n",
    "    f.write('x_0,x_1,x_2\\n')\n",
    "    for _ in range(1000):\n",
    "        f.write(str(np.random.uniform(-3, 100)) + \",\"\n",
    "                + str(np.random.uniform(-3, 100)) + \",\"\n",
    "                + str(np.random.uniform(-3, 100))+'\\n')"
   ]
  },
  {
   "cell_type": "markdown",
   "metadata": {},
   "source": [
    "Считали из файла 1000 сгенерированных объектов с 3 признаками в каждом"
   ]
  },
  {
   "cell_type": "code",
   "execution_count": 3,
   "metadata": {},
   "outputs": [],
   "source": [
    "data = pd.read_csv('test3.csv')"
   ]
  },
  {
   "cell_type": "markdown",
   "metadata": {},
   "source": [
    "Определим класс KNN. В методе <b>fit</b> происходит запись тестового набора данных для поиска в соответствующий аттрибут класса <i>train_data</i>. В методе <b>predict</b> происходит нормировка даннных и целевого вектора (в зависимости от условия метод <b>norm_data</b>), рассчитывается <b>метрика близости элемента к целевому</b>, а также происходит возвращение списка индексов ближайших <b>k-соседей</b> вектора (от ближайшего по увеличению метрики)."
   ]
  },
  {
   "cell_type": "code",
   "execution_count": 4,
   "metadata": {},
   "outputs": [],
   "source": [
    "class KNN:\n",
    "    def __init__(self, norm=True):\n",
    "        self.norm = norm\n",
    "        self.train_data = None\n",
    "    \n",
    "    def fit(self, data):\n",
    "        self.train_data = pd.DataFrame(data, columns=[f'x_{el}' for el in range(data.shape[1])])\n",
    "    \n",
    "    def predict(self, tar, k=5):\n",
    "        \n",
    "        # normalize\n",
    "        if self.norm:\n",
    "            tar = self.norm_data(tar)\n",
    "        \n",
    "        # calucalting dist between target and others objects\n",
    "        target_met = np.square(tar - self.train_data.to_numpy()).sum(axis=1)\n",
    "        \n",
    "        # extract first K object with min d to our target\n",
    "        return pd.concat([self.train_data, pd.DataFrame({'target_met': target_met})], axis=1).sort_values(by='target_met').head(k)\n",
    "    \n",
    "    def norm_data(self, x):\n",
    "        \n",
    "        # getting extremes (vectors) from each column and convert\n",
    "        x_min, x_max = self.train_data.min().to_numpy(), self.train_data.max().to_numpy()\n",
    "        \n",
    "        # calculating new data by normalization\n",
    "        normal_data = self.calc_func(self.train_data.to_numpy(), x_max, x_min)\n",
    "        \n",
    "        # return data to train set\n",
    "        self.train_data.update(pd.DataFrame(data=normal_data, columns=self.train_data.columns))\n",
    "        \n",
    "        # normalize target vector\n",
    "        return self.calc_func(x, x_max, x_min)\n",
    "    \n",
    "    # function normalize\n",
    "    def calc_func(self, data, y_max, y_min):\n",
    "        return (data - y_min) / (y_max - y_min)"
   ]
  },
  {
   "cell_type": "markdown",
   "metadata": {},
   "source": [
    "Создадим экземляр класса <b>KNN</b> с условием нормировки, загрузим тестовые данные, сгенерированные ранее."
   ]
  },
  {
   "cell_type": "code",
   "execution_count": 5,
   "metadata": {},
   "outputs": [],
   "source": [
    "test = KNN(True)"
   ]
  },
  {
   "cell_type": "code",
   "execution_count": 6,
   "metadata": {},
   "outputs": [],
   "source": [
    "test.fit(data.to_numpy().copy())"
   ]
  },
  {
   "cell_type": "markdown",
   "metadata": {},
   "source": [
    "Пусть целевой вектор будет V = (0, 80, 79), а искать будем 7 ближайших соседей к данному вектору."
   ]
  },
  {
   "cell_type": "code",
   "execution_count": 7,
   "metadata": {},
   "outputs": [],
   "source": [
    "k, tg = 7, [0, 80, 79]\n",
    "res = test.predict(tg, k)"
   ]
  },
  {
   "cell_type": "markdown",
   "metadata": {},
   "source": [
    "Посмотрим на первые k соседей целевого вектора в исходном датасете и метрику близости"
   ]
  },
  {
   "cell_type": "code",
   "execution_count": 8,
   "metadata": {},
   "outputs": [],
   "source": [
    "df_res = pd.concat([data.iloc[list(res.index)], res['target_met']], axis=1)"
   ]
  },
  {
   "cell_type": "code",
   "execution_count": 9,
   "metadata": {},
   "outputs": [
    {
     "data": {
      "text/html": [
       "<div>\n",
       "<style scoped>\n",
       "    .dataframe tbody tr th:only-of-type {\n",
       "        vertical-align: middle;\n",
       "    }\n",
       "\n",
       "    .dataframe tbody tr th {\n",
       "        vertical-align: top;\n",
       "    }\n",
       "\n",
       "    .dataframe thead th {\n",
       "        text-align: right;\n",
       "    }\n",
       "</style>\n",
       "<table border=\"1\" class=\"dataframe\">\n",
       "  <thead>\n",
       "    <tr style=\"text-align: right;\">\n",
       "      <th></th>\n",
       "      <th>x_0</th>\n",
       "      <th>x_1</th>\n",
       "      <th>x_2</th>\n",
       "      <th>target_met</th>\n",
       "    </tr>\n",
       "  </thead>\n",
       "  <tbody>\n",
       "    <tr>\n",
       "      <th>784</th>\n",
       "      <td>-1.149938</td>\n",
       "      <td>83.996251</td>\n",
       "      <td>78.920831</td>\n",
       "      <td>0.001637</td>\n",
       "    </tr>\n",
       "    <tr>\n",
       "      <th>543</th>\n",
       "      <td>3.171034</td>\n",
       "      <td>76.660867</td>\n",
       "      <td>79.753126</td>\n",
       "      <td>0.002060</td>\n",
       "    </tr>\n",
       "    <tr>\n",
       "      <th>870</th>\n",
       "      <td>6.349108</td>\n",
       "      <td>79.626903</td>\n",
       "      <td>77.304374</td>\n",
       "      <td>0.004099</td>\n",
       "    </tr>\n",
       "    <tr>\n",
       "      <th>892</th>\n",
       "      <td>-0.720761</td>\n",
       "      <td>84.097345</td>\n",
       "      <td>86.095197</td>\n",
       "      <td>0.006408</td>\n",
       "    </tr>\n",
       "    <tr>\n",
       "      <th>570</th>\n",
       "      <td>-1.161978</td>\n",
       "      <td>87.155389</td>\n",
       "      <td>85.621089</td>\n",
       "      <td>0.009127</td>\n",
       "    </tr>\n",
       "    <tr>\n",
       "      <th>214</th>\n",
       "      <td>6.204371</td>\n",
       "      <td>86.492392</td>\n",
       "      <td>74.631517</td>\n",
       "      <td>0.009439</td>\n",
       "    </tr>\n",
       "    <tr>\n",
       "      <th>274</th>\n",
       "      <td>5.465428</td>\n",
       "      <td>81.358953</td>\n",
       "      <td>70.216816</td>\n",
       "      <td>0.010311</td>\n",
       "    </tr>\n",
       "  </tbody>\n",
       "</table>\n",
       "</div>"
      ],
      "text/plain": [
       "          x_0        x_1        x_2  target_met\n",
       "784 -1.149938  83.996251  78.920831    0.001637\n",
       "543  3.171034  76.660867  79.753126    0.002060\n",
       "870  6.349108  79.626903  77.304374    0.004099\n",
       "892 -0.720761  84.097345  86.095197    0.006408\n",
       "570 -1.161978  87.155389  85.621089    0.009127\n",
       "214  6.204371  86.492392  74.631517    0.009439\n",
       "274  5.465428  81.358953  70.216816    0.010311"
      ]
     },
     "execution_count": 9,
     "metadata": {},
     "output_type": "execute_result"
    }
   ],
   "source": [
    "df_res"
   ]
  },
  {
   "cell_type": "markdown",
   "metadata": {},
   "source": [
    "Построим график Евклидовой нормы (целевой метрики) для первых k-соседей  "
   ]
  },
  {
   "cell_type": "code",
   "execution_count": 10,
   "metadata": {},
   "outputs": [
    {
     "data": {
      "image/png": "[encoded data removed]",
      "text/plain": [
       "<Figure size 432x288 with 1 Axes>"
      ]
     },
     "metadata": {
      "needs_background": "light"
     },
     "output_type": "display_data"
    }
   ],
   "source": [
    "plt.plot(df_res['target_met'].to_numpy(), 'o--b', label='Euclidean norm')\n",
    "plt.title(f\"Euclidean norm of first {k} neighbors of [{', '.join(map(str, tg))}]\")\n",
    "plt.xlabel('Neighbors')\n",
    "plt.ylabel('Euclidean norm')\n",
    "plt.legend()\n",
    "plt.show()"
   ]
  }
 ],
 "metadata": {
  "kernelspec": {
   "display_name": "Python 3",
   "language": "python",
   "name": "python3"
  },
  "language_info": {
   "codemirror_mode": {
    "name": "ipython",
    "version": 3
   },
   "file_extension": ".py",
   "mimetype": "text/x-python",
   "name": "python",
   "nbconvert_exporter": "python",
   "pygments_lexer": "ipython3",
   "version": "3.7.3"
  }
 },
 "nbformat": 4,
 "nbformat_minor": 4
}
