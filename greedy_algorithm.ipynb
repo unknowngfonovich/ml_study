{
 "cells": [
  {
   "cell_type": "markdown",
   "metadata": {},
   "source": [
    "Pадача заключается в интерпретации алгоритма жадного отбора признаков для получения наилучшего качества модели - определение функции <b>select_greedy_mse</b>\n",
    "Функционал качества в данном случае является <b>MSE</b>, а моделью - <b>линейная регрессия</b>."
   ]
  },
  {
   "cell_type": "markdown",
   "metadata": {},
   "source": [
    "Для начала импортируем необходимые библиотеки pandas, numpy"
   ]
  },
  {
   "cell_type": "code",
   "execution_count": 36,
   "metadata": {},
   "outputs": [],
   "source": [
    "import pandas as pd\n",
    "import numpy as np\n",
    "import matplotlib.pyplot as plt"
   ]
  },
  {
   "cell_type": "markdown",
   "metadata": {},
   "source": [
    "Сгенерируем объекты и поместим их в датафрейм"
   ]
  },
  {
   "cell_type": "code",
   "execution_count": 37,
   "metadata": {},
   "outputs": [],
   "source": [
    "data = np.array([[-1, 0,  98, 0.2, 10], [-2, 0.2, 70, 3, 12], [10.77, 0, 0.3, 11, 0.8], [4, 0, -0.2, 100, -1.2]])\n",
    "test = pd.DataFrame(data, columns=['col0', 'col1', 'col2', 'col3', 'target'])"
   ]
  },
  {
   "cell_type": "markdown",
   "metadata": {},
   "source": [
    "Считали из файла 4 сгенерированных объектов с 4 признаками в каждом, target - целевая метрика"
   ]
  },
  {
   "cell_type": "code",
   "execution_count": 38,
   "metadata": {},
   "outputs": [
    {
     "data": {
      "text/html": [
       "<div>\n",
       "<style scoped>\n",
       "    .dataframe tbody tr th:only-of-type {\n",
       "        vertical-align: middle;\n",
       "    }\n",
       "\n",
       "    .dataframe tbody tr th {\n",
       "        vertical-align: top;\n",
       "    }\n",
       "\n",
       "    .dataframe thead th {\n",
       "        text-align: right;\n",
       "    }\n",
       "</style>\n",
       "<table border=\"1\" class=\"dataframe\">\n",
       "  <thead>\n",
       "    <tr style=\"text-align: right;\">\n",
       "      <th></th>\n",
       "      <th>col0</th>\n",
       "      <th>col1</th>\n",
       "      <th>col2</th>\n",
       "      <th>col3</th>\n",
       "      <th>target</th>\n",
       "    </tr>\n",
       "  </thead>\n",
       "  <tbody>\n",
       "    <tr>\n",
       "      <th>0</th>\n",
       "      <td>-1.00</td>\n",
       "      <td>0.0</td>\n",
       "      <td>98.0</td>\n",
       "      <td>0.2</td>\n",
       "      <td>10.0</td>\n",
       "    </tr>\n",
       "    <tr>\n",
       "      <th>1</th>\n",
       "      <td>-2.00</td>\n",
       "      <td>0.2</td>\n",
       "      <td>70.0</td>\n",
       "      <td>3.0</td>\n",
       "      <td>12.0</td>\n",
       "    </tr>\n",
       "    <tr>\n",
       "      <th>2</th>\n",
       "      <td>10.77</td>\n",
       "      <td>0.0</td>\n",
       "      <td>0.3</td>\n",
       "      <td>11.0</td>\n",
       "      <td>0.8</td>\n",
       "    </tr>\n",
       "    <tr>\n",
       "      <th>3</th>\n",
       "      <td>4.00</td>\n",
       "      <td>0.0</td>\n",
       "      <td>-0.2</td>\n",
       "      <td>100.0</td>\n",
       "      <td>-1.2</td>\n",
       "    </tr>\n",
       "  </tbody>\n",
       "</table>\n",
       "</div>"
      ],
      "text/plain": [
       "    col0  col1  col2   col3  target\n",
       "0  -1.00   0.0  98.0    0.2    10.0\n",
       "1  -2.00   0.2  70.0    3.0    12.0\n",
       "2  10.77   0.0   0.3   11.0     0.8\n",
       "3   4.00   0.0  -0.2  100.0    -1.2"
      ]
     },
     "execution_count": 38,
     "metadata": {},
     "output_type": "execute_result"
    }
   ],
   "source": [
    "test"
   ]
  },
  {
   "cell_type": "markdown",
   "metadata": {},
   "source": [
    "Определим класс LinearRegression для линейной регрессии. В методе <b>fit</b> происходит приём матрицы данных, вектора метрики для последующего подбора коэффициентов линейной регрессии. В методе <b>predict</b> происходит вычисление предсказанных значений. Метод <b>score</b> позволяет оценить качество предсказанных значений на основе идеальных с помощью среднеквадратичной ошибки."
   ]
  },
  {
   "cell_type": "code",
   "execution_count": 39,
   "metadata": {},
   "outputs": [],
   "source": [
    "class LinearRegression:\n",
    "    def __init__(self):\n",
    "        self.coef = None\n",
    "        \n",
    "    # calculating vector of weights\n",
    "    def fit(self, x, y):\n",
    "        x = np.append(np.ones((len(x), 1), dtype='int64'), x, axis=1)\n",
    "        x_t = x.T\n",
    "        self.coef = np.linalg.inv((x_t.dot(x))).dot(x_t).dot(y)\n",
    "    \n",
    "    # apply model to data\n",
    "    def predict(self, x):\n",
    "        return np.append(np.ones((len(x), 1), dtype='int64'), x, axis=1).dot(self.coef)\n",
    "    \n",
    "    # calculate score of model\n",
    "    def score(self, y_true, y_pred):\n",
    "        return (1 / len(y_true)) * np.sum(np.square(y_true-y_pred))"
   ]
  },
  {
   "cell_type": "markdown",
   "metadata": {},
   "source": [
    "Определим функцию <b>select_greedy_mse</b>, принимающую на вход dataframe. Алгоритм жадного отбора признаков в данном случае реализуется путём выбора признака, который добавляется в набор признаков, от которого строится регрессия. Вычисляется функционал качества <b>MSE</b>, происходит сравнение с предыдущим его значением. Если качество стало лучше, то признак остается в наборе, иначе - исключается из набора признаков. Цикл проходит по всем признакам, пока все доступные не были протестированы."
   ]
  },
  {
   "cell_type": "code",
   "execution_count": 40,
   "metadata": {},
   "outputs": [],
   "source": [
    "def select_greedy_mse(df):\n",
    "    # define model, mse, array to store the score\n",
    "    model, MSE, mse_col = LinearRegression(), None, []\n",
    "    \n",
    "    # extract target/ideal values \n",
    "    target = df['target']\n",
    "    \n",
    "    # delete them from original data\n",
    "    df.drop(['target'], inplace=True, axis=1)\n",
    "    \n",
    "    # processing the algorithm\n",
    "    tmp = pd.DataFrame(data={}, columns=[])\n",
    "\n",
    "    for el in df.columns:\n",
    "        \n",
    "        # add 1 new column\n",
    "        tmp = pd.concat([tmp, df[el]], axis=1)\n",
    "        \n",
    "        # convert to numpy array\n",
    "        data_tmp = tmp[tmp.columns].to_numpy()\n",
    "        \n",
    "        # calculating\n",
    "        model.fit(data_tmp, target)\n",
    "        \n",
    "        # getting score\n",
    "        tmp_mse = model.score(target, model.predict(data_tmp))\n",
    "        \n",
    "        mse_col.append(tmp_mse)\n",
    "        \n",
    "        if MSE != None and MSE <= tmp_mse:\n",
    "            tmp.drop(el, axis=1, inplace=True)\n",
    "        else:\n",
    "             MSE = tmp_mse\n",
    "                \n",
    "    return (list(tmp.columns), mse_col)"
   ]
  },
  {
   "cell_type": "markdown",
   "metadata": {},
   "source": [
    "Получим лист признаков и лист значений MSE, далее построим зависимость MSE от пройденных шагов."
   ]
  },
  {
   "cell_type": "code",
   "execution_count": 41,
   "metadata": {},
   "outputs": [],
   "source": [
    "data1, data2 = select_greedy_mse(test)"
   ]
  },
  {
   "cell_type": "code",
   "execution_count": 42,
   "metadata": {},
   "outputs": [
    {
     "data": {
      "text/plain": [
       "['col0', 'col1', 'col2']"
      ]
     },
     "execution_count": 42,
     "metadata": {},
     "output_type": "execute_result"
    }
   ],
   "source": [
    "data1"
   ]
  },
  {
   "cell_type": "code",
   "execution_count": 43,
   "metadata": {
    "scrolled": false
   },
   "outputs": [
    {
     "data": {
      "image/png": "[encoded data removed]",
      "text/plain": [
       "<Figure size 432x288 with 1 Axes>"
      ]
     },
     "metadata": {
      "needs_background": "light"
     },
     "output_type": "display_data"
    }
   ],
   "source": [
    "# plotting the graph \n",
    "plt.plot(data2)\n",
    "plt.xticks(np.arange(0, test.columns.shape[0], step=1))\n",
    "plt.title('MSE value during steps')\n",
    "plt.xlabel('Steps')\n",
    "plt.ylabel('MSE value')\n",
    "plt.show()"
   ]
  }
 ],
 "metadata": {
  "kernelspec": {
   "display_name": "Python 3",
   "language": "python",
   "name": "python3"
  },
  "language_info": {
   "codemirror_mode": {
    "name": "ipython",
    "version": 3
   },
   "file_extension": ".py",
   "mimetype": "text/x-python",
   "name": "python",
   "nbconvert_exporter": "python",
   "pygments_lexer": "ipython3",
   "version": "3.7.3"
  }
 },
 "nbformat": 4,
 "nbformat_minor": 4
}
