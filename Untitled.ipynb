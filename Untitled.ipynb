{
 "cells": [
  {
   "cell_type": "code",
   "execution_count": 1,
   "id": "6cf3359f",
   "metadata": {},
   "outputs": [],
   "source": [
    "import control\n",
    "import numpy as np\n",
    "import matplotlib.pyplot as plt\n",
    "from scipy.optimize import curve_fit"
   ]
  },
  {
   "cell_type": "markdown",
   "id": "77a1f6ab",
   "metadata": {},
   "source": [
    "Рассмотрим следующую задачу: в теориии автоматического управления (ТАУ) элементы математической модели физического объекта представляются в виде специальных блоков или динамических звеньев. Например, передаточная функция устойчивого колебательного звена второго порядка в пространстве Лапласа выглядит следующим образом:\n",
    "\n",
    "$$W(s) = \\frac{K}{T^2 s^2 + 2Tξs + 1}$$\n",
    "\n",
    "В данном выражении K - коэффициент усиления, T - постоянная времени, ξ - коэффициент затухания (от 0 до 1)"
   ]
  },
  {
   "cell_type": "markdown",
   "id": "ad36bdad",
   "metadata": {},
   "source": [
    "Давайте создадим систему, используя пакет control, и посмотрим реакцию системы (ответ/выходной сигнал) c параметрами T = 2, ξ = 0.75, K = 1:"
   ]
  },
  {
   "cell_type": "code",
   "execution_count": 2,
   "id": "def5fe1a",
   "metadata": {},
   "outputs": [],
   "source": [
    "W = control.tf([1], [4, 3, 1])"
   ]
  },
  {
   "cell_type": "code",
   "execution_count": 3,
   "id": "69a48acf",
   "metadata": {},
   "outputs": [],
   "source": [
    "X, Y = control.step_response(W)"
   ]
  },
  {
   "cell_type": "code",
   "execution_count": 4,
   "id": "b584a9c8",
   "metadata": {},
   "outputs": [
    {
     "data": {
      "text/plain": [
       "[<matplotlib.lines.Line2D at 0x221cac0eb80>]"
      ]
     },
     "execution_count": 4,
     "metadata": {},
     "output_type": "execute_result"
    },
    {
     "data": {
      "image/png": "[encoded data removed]",
      "text/plain": [
       "<Figure size 432x288 with 1 Axes>"
      ]
     },
     "metadata": {
      "needs_background": "light"
     },
     "output_type": "display_data"
    }
   ],
   "source": [
    "plt.plot(X, Y)"
   ]
  },
  {
   "cell_type": "code",
   "execution_count": 5,
   "id": "7a85e0d1",
   "metadata": {},
   "outputs": [],
   "source": [
    "def app_func(x, a, b, c):\n",
    "    return a * np.exp(- x * b) + c"
   ]
  },
  {
   "cell_type": "code",
   "execution_count": 6,
   "id": "28665359",
   "metadata": {},
   "outputs": [],
   "source": [
    "coef, _ = curve_fit(app_func, X, Y, maxfev = 10**6) "
   ]
  },
  {
   "cell_type": "code",
   "execution_count": 7,
   "id": "fd332d52",
   "metadata": {},
   "outputs": [
    {
     "data": {
      "text/plain": [
       "array([-1.24324032,  0.32489579,  1.04535107])"
      ]
     },
     "execution_count": 7,
     "metadata": {},
     "output_type": "execute_result"
    }
   ],
   "source": [
    "coef"
   ]
  },
  {
   "cell_type": "code",
   "execution_count": 11,
   "id": "86c171ac",
   "metadata": {},
   "outputs": [],
   "source": [
    "Y_1 = app_func(X, *coef)"
   ]
  },
  {
   "cell_type": "code",
   "execution_count": 12,
   "id": "66d436f8",
   "metadata": {
    "scrolled": true
   },
   "outputs": [
    {
     "data": {
      "text/plain": [
       "<matplotlib.legend.Legend at 0x221ce833bb0>"
      ]
     },
     "execution_count": 12,
     "metadata": {},
     "output_type": "execute_result"
    },
    {
     "data": {
      "image/png": "[encoded data removed]",
      "text/plain": [
       "<Figure size 432x288 with 1 Axes>"
      ]
     },
     "metadata": {
      "needs_background": "light"
     },
     "output_type": "display_data"
    }
   ],
   "source": [
    "plt.plot(X, Y_1, 'g--',\n",
    "         label=f'curve fit: a={round(coef[0], 2)}, b={round(coef[1], 2)},c={round(coef[2], 2)}')\n",
    "plt.plot(X, Y, 'r', label='default')\n",
    "plt.legend()"
   ]
  },
  {
   "cell_type": "code",
   "execution_count": 13,
   "id": "e268f481",
   "metadata": {},
   "outputs": [],
   "source": [
    "rms = np.sqrt(np.mean((Y-Y_1)**2))"
   ]
  },
  {
   "cell_type": "code",
   "execution_count": 14,
   "id": "7056e669",
   "metadata": {},
   "outputs": [
    {
     "data": {
      "text/plain": [
       "0.0533195102186284"
      ]
     },
     "execution_count": 14,
     "metadata": {},
     "output_type": "execute_result"
    }
   ],
   "source": [
    "rms"
   ]
  },
  {
   "cell_type": "code",
   "execution_count": 15,
   "id": "35bddd5b",
   "metadata": {},
   "outputs": [],
   "source": [
    "import torch"
   ]
  },
  {
   "cell_type": "code",
   "execution_count": 16,
   "id": "3e78a1d8",
   "metadata": {},
   "outputs": [],
   "source": [
    "a = torch.Tensor((3,3))"
   ]
  },
  {
   "cell_type": "code",
   "execution_count": 17,
   "id": "426a04e6",
   "metadata": {},
   "outputs": [
    {
     "data": {
      "text/plain": [
       "tensor([3., 3.])"
      ]
     },
     "execution_count": 17,
     "metadata": {},
     "output_type": "execute_result"
    }
   ],
   "source": [
    "a"
   ]
  },
  {
   "cell_type": "code",
   "execution_count": null,
   "id": "85219f40",
   "metadata": {},
   "outputs": [],
   "source": [
    " "
   ]
  }
 ],
 "metadata": {
  "kernelspec": {
   "display_name": "Python 3",
   "language": "python",
   "name": "python3"
  },
  "language_info": {
   "codemirror_mode": {
    "name": "ipython",
    "version": 3
   },
   "file_extension": ".py",
   "mimetype": "text/x-python",
   "name": "python",
   "nbconvert_exporter": "python",
   "pygments_lexer": "ipython3",
   "version": "3.9.2"
  }
 },
 "nbformat": 4,
 "nbformat_minor": 5
}
