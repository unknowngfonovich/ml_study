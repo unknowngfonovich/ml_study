{
 "cells": [
  {
   "cell_type": "markdown",
   "metadata": {},
   "source": [
    "<b>Сначала производится импортирование необходимых модулей</b>"
   ]
  },
  {
   "cell_type": "code",
   "execution_count": 111,
   "metadata": {},
   "outputs": [],
   "source": [
    "import pandas as pd\n",
    "import pylab\n",
    "import scipy.stats as sc"
   ]
  },
  {
   "cell_type": "markdown",
   "metadata": {},
   "source": [
    "<b>Определение функций проверки критериев: Бартлетта для равенства дисперсий, Шапиро для проверки распределения на нормальность,\n",
    "парного критерий Стьюдента для стат. значимости различий.</b>"
   ]
  },
  {
   "cell_type": "code",
   "execution_count": 116,
   "metadata": {},
   "outputs": [],
   "source": [
    "def bartlett_test(data1, data2, per, alpha):\n",
    "    print(f'Variances of distributions of {per} is '\n",
    "          f'{\"not\" if sc.levene(data1, data2)[1] < alpha else \"\"}'\n",
    "          f'equal')"
   ]
  },
  {
   "cell_type": "code",
   "execution_count": 117,
   "metadata": {},
   "outputs": [],
   "source": [
    "def shapiro_test(data1, per, alpha):\n",
    "    print(f'Distributions of {per} is '\n",
    "          f'{\"not\" if sc.shapiro(data1).pvalue < alpha else \"\"}'\n",
    "          f'normal')"
   ]
  },
  {
   "cell_type": "code",
   "execution_count": 118,
   "metadata": {},
   "outputs": [],
   "source": [
    "def t_st(data1, data2, per, alpha):\n",
    "    print(f'Diffs of {per} is '\n",
    "          f'{\"not \" if sc.ttest_rel(data1, data2).pvalue < alpha else \"\"}'\n",
    "          f'significant')"
   ]
  },
  {
   "cell_type": "markdown",
   "metadata": {},
   "source": [
    "<b>Функция для расчета метрик</b>"
   ]
  },
  {
   "cell_type": "code",
   "execution_count": 119,
   "metadata": {},
   "outputs": [],
   "source": [
    "def get_ratio(data1, data2, name, case=1):\n",
    "    if case == 1:\n",
    "        return pd.Series([el / el2 for el, el2 in zip(data1, data1 + data2)], name=name)\n",
    "    elif case == 2:\n",
    "        return pd.Series([el / el2 for el, el2 in zip(data1['metric_value'], data1['visits'])], name=name)"
   ]
  },
  {
   "cell_type": "markdown",
   "metadata": {},
   "source": [
    "<b>Определение альфы и параметров из условия задачи</b>"
   ]
  },
  {
   "cell_type": "code",
   "execution_count": 120,
   "metadata": {},
   "outputs": [],
   "source": [
    "al, dau, wau = 0.05, 500000, 850000"
   ]
  },
  {
   "cell_type": "markdown",
   "metadata": {},
   "source": [
    "<b>Извлечение данных из csv</b>"
   ]
  },
  {
   "cell_type": "code",
   "execution_count": 121,
   "metadata": {},
   "outputs": [],
   "source": [
    "df1 = pd.DataFrame(data=pd.read_csv('hw_abt_2_bybucket.csv', delimiter='\\t'))"
   ]
  },
  {
   "cell_type": "markdown",
   "metadata": {},
   "source": [
    "<b>Разделение данных на группы</b>"
   ]
  },
  {
   "cell_type": "code",
   "execution_count": 122,
   "metadata": {},
   "outputs": [],
   "source": [
    "control_set, exp_set = df1[0:8], df1[8:]"
   ]
  },
  {
   "cell_type": "markdown",
   "metadata": {},
   "source": [
    "<b>В соответствие с данными в файле и задании было решено рассчитать следующие метрики:\n",
    "Косвенная характеристика - недельный коэффициент “прилипаемости” (kpp) пользователя к сервису = DAU / WAU </b>"
   ]
  },
  {
   "cell_type": "code",
   "execution_count": 123,
   "metadata": {},
   "outputs": [],
   "source": [
    "kpp = dau / wau"
   ]
  },
  {
   "cell_type": "code",
   "execution_count": 124,
   "metadata": {},
   "outputs": [
    {
     "data": {
      "text/plain": [
       "0.5882352941176471"
      ]
     },
     "execution_count": 124,
     "metadata": {},
     "output_type": "execute_result"
    }
   ],
   "source": [
    "kpp"
   ]
  },
  {
   "cell_type": "markdown",
   "metadata": {},
   "source": [
    "<b>Рассчитана следующая метрика для групп: Visits to sale conversion (vsc) - отношение числа успешных посещений к общему числу посещений.</b>"
   ]
  },
  {
   "cell_type": "code",
   "execution_count": 125,
   "metadata": {},
   "outputs": [],
   "source": [
    "vsc_cont, vsc_exp = get_ratio(control_set['visits'], control_set['churn_visits'], 'vsc_cont'), \\\n",
    "                    get_ratio(exp_set['visits'], exp_set['churn_visits'], 'vsc_cont')"
   ]
  },
  {
   "cell_type": "markdown",
   "metadata": {},
   "source": [
    "<b>Рассчитана следующая метрика для групп: Conversion rate (cr) - отношение числа пользователей, cовершивших целевое действие, к общему числу пользователей.</b>"
   ]
  },
  {
   "cell_type": "code",
   "execution_count": 126,
   "metadata": {},
   "outputs": [],
   "source": [
    "cr_cont, cr_exp = get_ratio(control_set['users'], control_set['churn_users'], 'cr_cont'), \\\n",
    "                  get_ratio(exp_set['users'], exp_set['churn_users'], 'cr_exp')"
   ]
  },
  {
   "cell_type": "markdown",
   "metadata": {},
   "source": [
    "<b>Рассчитана следующая метрика для групп: Order value (aov) - среднее значение одного целевого действия (сколько целевой метрики привлекло одно целевое действие (посещение) в среднем).</b>"
   ]
  },
  {
   "cell_type": "code",
   "execution_count": 127,
   "metadata": {},
   "outputs": [],
   "source": [
    "aov_cont, aov_exp = get_ratio(data1=control_set, data2=None, name='aov_cont', case=2), \\\n",
    "                    get_ratio(data1=exp_set, data2=None, name='aov_exp', case=2)"
   ]
  },
  {
   "cell_type": "markdown",
   "metadata": {},
   "source": [
    "<b>После получения метрик было проведено исследование на проверку равенства дисперсий в экспериментальной и контрольных группах.\n",
    "Использован критерий Левена, так как он предоставляет возможность исследования равенства дисперсий 2-х выборок и менее чувствителен к отклонению от нормального.</b>"
   ]
  },
  {
   "cell_type": "code",
   "execution_count": 128,
   "metadata": {},
   "outputs": [
    {
     "name": "stdout",
     "output_type": "stream",
     "text": [
      "Variances of distributions of vsc is equal\n",
      "Variances of distributions of cr is equal\n",
      "Variances of distributions of aov is equal\n"
     ]
    }
   ],
   "source": [
    "bartlett_test(vsc_cont, vsc_exp, 'vsc', al)\n",
    "bartlett_test(cr_cont, cr_exp, 'cr', al)\n",
    "bartlett_test(aov_cont, aov_exp, 'aov', al)"
   ]
  },
  {
   "cell_type": "markdown",
   "metadata": {},
   "source": [
    "<b>Также проведено исследование на проверку нормальности распределения в экспериментальной и контрольных группах. Использован критерий Шапиро, так как обладает большой мощностью. Также приведен qqplot для метрики vsc контрольной группы в качестве примера.</b>"
   ]
  },
  {
   "cell_type": "code",
   "execution_count": 129,
   "metadata": {},
   "outputs": [
    {
     "name": "stdout",
     "output_type": "stream",
     "text": [
      "Distributions of vsc_cont is normal\n",
      "Distributions of vsc_exp is normal\n",
      "Distributions of cr_cont is normal\n",
      "Distributions of cr_exp is normal\n",
      "Distributions of aov_cont is normal\n",
      "Distributions of aov_exp is normal\n"
     ]
    }
   ],
   "source": [
    "shapiro_test(vsc_cont, 'vsc_cont', al)\n",
    "shapiro_test(vsc_exp, 'vsc_exp', al)\n",
    "shapiro_test(cr_cont, 'cr_cont', al)\n",
    "shapiro_test(cr_cont, 'cr_exp', al)\n",
    "shapiro_test(aov_cont, 'aov_cont', al)\n",
    "shapiro_test(aov_cont, 'aov_exp', al)"
   ]
  },
  {
   "cell_type": "code",
   "execution_count": 130,
   "metadata": {},
   "outputs": [
    {
     "data": {
      "image/png": "[encoded data removed]",
      "text/plain": [
       "<Figure size 432x288 with 1 Axes>"
      ]
     },
     "metadata": {
      "needs_background": "light"
     },
     "output_type": "display_data"
    }
   ],
   "source": [
    "sc.probplot(vsc_cont, dist=\"norm\", plot=pylab)\n",
    "pylab.show()"
   ]
  },
  {
   "cell_type": "markdown",
   "metadata": {},
   "source": [
    "<b>Для оценки статистической значимости различий исследуемых метрик в выборках выбран парный критерий Стьюдента. Данный критерий используется, как правило, в исследованиях со сравнением (в данном случае экспериментальная и контрольные группы)</b>"
   ]
  },
  {
   "cell_type": "code",
   "execution_count": 131,
   "metadata": {},
   "outputs": [
    {
     "name": "stdout",
     "output_type": "stream",
     "text": [
      "Diffs of vsc is significant\n",
      "Diffs of cr is not significant\n",
      "Diffs of aov is significant\n"
     ]
    }
   ],
   "source": [
    "t_st(vsc_cont, vsc_exp, 'vsc', al)\n",
    "t_st(cr_cont, cr_exp, 'cr', al)\n",
    "t_st(aov_cont, aov_exp, 'aov', al)"
   ]
  },
  {
   "cell_type": "markdown",
   "metadata": {},
   "source": [
    "<b>Далее для построения диаграмм и гистограмм размаха преобразуем данные в несколько другой формат (Series в DataFrame)</b>"
   ]
  },
  {
   "cell_type": "code",
   "execution_count": 133,
   "metadata": {},
   "outputs": [],
   "source": [
    "data_res = vsc_cont.to_frame()\n",
    "data_res['vsc_exp'], data_res['cr_cont'] = vsc_exp, cr_cont\n",
    "data_res['cr_exp'], data_res['aov_cont'] = cr_exp, aov_cont\n",
    "data_res['aov_exp'] = aov_exp"
   ]
  },
  {
   "cell_type": "markdown",
   "metadata": {},
   "source": [
    "<b>После преобразования построим диаграммы размаха для всех метрик и групп.</b>"
   ]
  },
  {
   "cell_type": "code",
   "execution_count": 134,
   "metadata": {},
   "outputs": [
    {
     "data": {
      "text/plain": [
       "<AxesSubplot:>"
      ]
     },
     "execution_count": 134,
     "metadata": {},
     "output_type": "execute_result"
    },
    {
     "data": {
      "image/png": "[encoded data removed]",
      "text/plain": [
       "<Figure size 576x576 with 1 Axes>"
      ]
     },
     "metadata": {
      "needs_background": "light"
     },
     "output_type": "display_data"
    }
   ],
   "source": [
    "data_res.boxplot(column=['vsc_cont', 'vsc_exp', 'cr_cont', 'cr_exp'], rot=30, fontsize=10, figsize=(8,8))\n"
   ]
  },
  {
   "cell_type": "code",
   "execution_count": 135,
   "metadata": {},
   "outputs": [
    {
     "data": {
      "text/plain": [
       "<AxesSubplot:>"
      ]
     },
     "execution_count": 135,
     "metadata": {},
     "output_type": "execute_result"
    },
    {
     "data": {
      "image/png": "[encoded data removed]",
      "text/plain": [
       "<Figure size 576x576 with 1 Axes>"
      ]
     },
     "metadata": {
      "needs_background": "light"
     },
     "output_type": "display_data"
    }
   ],
   "source": [
    "data_res.boxplot(column=['aov_cont', 'aov_exp'], rot=30, fontsize=15, figsize=(8,8))"
   ]
  },
  {
   "cell_type": "code",
   "execution_count": 136,
   "metadata": {},
   "outputs": [
    {
     "data": {
      "text/plain": [
       "array([[<AxesSubplot:title={'center':'vsc_cont'}>,\n",
       "        <AxesSubplot:title={'center':'vsc_exp'}>],\n",
       "       [<AxesSubplot:title={'center':'cr_cont'}>,\n",
       "        <AxesSubplot:title={'center':'cr_exp'}>]], dtype=object)"
      ]
     },
     "execution_count": 136,
     "metadata": {},
     "output_type": "execute_result"
    },
    {
     "data": {
      "image/png": "[encoded data removed]",
      "text/plain": [
       "<Figure size 864x576 with 4 Axes>"
      ]
     },
     "metadata": {
      "needs_background": "light"
     },
     "output_type": "display_data"
    }
   ],
   "source": [
    "data_res.hist(column=['vsc_cont', 'vsc_exp', 'cr_cont', 'cr_exp'], bins=4, figsize = (12,8))"
   ]
  },
  {
   "cell_type": "markdown",
   "metadata": {},
   "source": [
    "<b>Построим гистограммы для всех метрик и групп.</b>"
   ]
  },
  {
   "cell_type": "code",
   "execution_count": 137,
   "metadata": {},
   "outputs": [
    {
     "data": {
      "text/plain": [
       "array([[<AxesSubplot:title={'center':'aov_cont'}>,\n",
       "        <AxesSubplot:title={'center':'aov_exp'}>]], dtype=object)"
      ]
     },
     "execution_count": 137,
     "metadata": {},
     "output_type": "execute_result"
    },
    {
     "data": {
      "image/png": "[encoded data removed]",
      "text/plain": [
       "<Figure size 864x576 with 2 Axes>"
      ]
     },
     "metadata": {
      "needs_background": "light"
     },
     "output_type": "display_data"
    }
   ],
   "source": [
    "data_res.hist(column=['aov_cont', 'aov_exp'], bins=4, figsize = (12,8))"
   ]
  },
  {
   "cell_type": "markdown",
   "metadata": {},
   "source": [
    "Стоит отметить, что размер выборок недостаточен для представления достоверных выводов."
   ]
  },
  {
   "cell_type": "code",
   "execution_count": 115,
   "metadata": {},
   "outputs": [
    {
     "name": "stdout",
     "output_type": "stream",
     "text": [
      "Sample Size: 2453.730\n"
     ]
    }
   ],
   "source": [
    "import numpy as np\n",
    "from statsmodels.stats.power import TTestIndPower\n",
    "# parameters for power analysis\n",
    "effect = 0.08\n",
    "alpha = 0.05\n",
    "power = 0.8\n",
    "# perform power analysis\n",
    "analysis = TTestIndPower()\n",
    "result = analysis.solve_power(effect, power=power, alpha=alpha)\n",
    "print('Sample Size: %.3f' % result)"
   ]
  }
 ],
 "metadata": {
  "kernelspec": {
   "display_name": "Python 3",
   "language": "python",
   "name": "python3"
  },
  "language_info": {
   "codemirror_mode": {
    "name": "ipython",
    "version": 3
   },
   "file_extension": ".py",
   "mimetype": "text/x-python",
   "name": "python",
   "nbconvert_exporter": "python",
   "pygments_lexer": "ipython3",
   "version": "3.9.2"
  }
 },
 "nbformat": 4,
 "nbformat_minor": 4
}
